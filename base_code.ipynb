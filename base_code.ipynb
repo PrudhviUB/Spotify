{
 "cells": [
  {
   "cell_type": "code",
   "execution_count": null,
   "metadata": {},
   "outputs": [],
   "source": [
    "#!pip install spotipy"
   ]
  },
  {
   "cell_type": "code",
   "execution_count": null,
   "metadata": {},
   "outputs": [],
   "source": [
    "#!pip install pandas"
   ]
  },
  {
   "cell_type": "code",
   "execution_count": 59,
   "metadata": {},
   "outputs": [],
   "source": [
    "import spotipy\n",
    "from spotipy.oauth2 import SpotifyClientCredentials\n",
    "import pandas as pd"
   ]
  },
  {
   "cell_type": "code",
   "execution_count": 3,
   "metadata": {},
   "outputs": [],
   "source": [
    "client_credentials_manager = SpotifyClientCredentials(client_id = \"559441ab344541769b00a32302c58c2c\", client_secret = \"f4081329b0b74a60b212ad68e76bdc5a\")"
   ]
  },
  {
   "cell_type": "code",
   "execution_count": 4,
   "metadata": {},
   "outputs": [],
   "source": [
    "sp = spotipy.Spotify(client_credentials_manager = client_credentials_manager)"
   ]
  },
  {
   "cell_type": "code",
   "execution_count": 5,
   "metadata": {},
   "outputs": [],
   "source": [
    "playlist_link = \"https://open.spotify.com/playlist/37i9dQZEVXbNG2KDcFcKOF\""
   ]
  },
  {
   "cell_type": "code",
   "execution_count": 12,
   "metadata": {},
   "outputs": [
    {
     "data": {
      "text/plain": [
       "'37i9dQZEVXbNG2KDcFcKOF'"
      ]
     },
     "execution_count": 12,
     "metadata": {},
     "output_type": "execute_result"
    }
   ],
   "source": [
    "playlist_link.split('/')[-1]"
   ]
  },
  {
   "cell_type": "code",
   "execution_count": 8,
   "metadata": {},
   "outputs": [],
   "source": [
    "playlist_URI = playlist_link.split('/')[-1]"
   ]
  },
  {
   "cell_type": "code",
   "execution_count": 31,
   "metadata": {},
   "outputs": [],
   "source": [
    "playlist_URI = '3cEYpjA9oz9GiPac4AsH4n'"
   ]
  },
  {
   "cell_type": "code",
   "execution_count": 33,
   "metadata": {},
   "outputs": [],
   "source": [
    "data = sp.playlist_tracks(playlist_URI)"
   ]
  },
  {
   "cell_type": "code",
   "execution_count": 39,
   "metadata": {},
   "outputs": [
    {
     "data": {
      "text/plain": [
       "{'added_at': '2015-01-15T12:41:10Z',\n",
       " 'added_by': {'external_urls': {'spotify': 'https://open.spotify.com/user/jmperezperez'},\n",
       "  'href': 'https://api.spotify.com/v1/users/jmperezperez',\n",
       "  'id': 'jmperezperez',\n",
       "  'type': 'user',\n",
       "  'uri': 'spotify:user:jmperezperez'},\n",
       " 'is_local': False,\n",
       " 'primary_color': None,\n",
       " 'track': {'preview_url': None,\n",
       "  'available_markets': [],\n",
       "  'explicit': False,\n",
       "  'type': 'track',\n",
       "  'episode': False,\n",
       "  'track': True,\n",
       "  'album': {'available_markets': [],\n",
       "   'type': 'album',\n",
       "   'album_type': 'album',\n",
       "   'href': 'https://api.spotify.com/v1/albums/0ivM6kSawaug0j3tZVusG2',\n",
       "   'id': '0ivM6kSawaug0j3tZVusG2',\n",
       "   'images': [{'height': 640,\n",
       "     'url': 'https://i.scdn.co/image/ab67616d0000b27304e57d181ff062f8339d6c71',\n",
       "     'width': 640},\n",
       "    {'height': 300,\n",
       "     'url': 'https://i.scdn.co/image/ab67616d00001e0204e57d181ff062f8339d6c71',\n",
       "     'width': 300},\n",
       "    {'height': 64,\n",
       "     'url': 'https://i.scdn.co/image/ab67616d0000485104e57d181ff062f8339d6c71',\n",
       "     'width': 64}],\n",
       "   'name': 'All The Best (Spanish Version)',\n",
       "   'release_date': '2007-01-01',\n",
       "   'release_date_precision': 'day',\n",
       "   'uri': 'spotify:album:0ivM6kSawaug0j3tZVusG2',\n",
       "   'artists': [{'external_urls': {'spotify': 'https://open.spotify.com/artist/2KftmGt9sk1yLjsAoloC3M'},\n",
       "     'href': 'https://api.spotify.com/v1/artists/2KftmGt9sk1yLjsAoloC3M',\n",
       "     'id': '2KftmGt9sk1yLjsAoloC3M',\n",
       "     'name': 'Zucchero',\n",
       "     'type': 'artist',\n",
       "     'uri': 'spotify:artist:2KftmGt9sk1yLjsAoloC3M'}],\n",
       "   'external_urls': {'spotify': 'https://open.spotify.com/album/0ivM6kSawaug0j3tZVusG2'},\n",
       "   'total_tracks': 18},\n",
       "  'artists': [{'external_urls': {'spotify': 'https://open.spotify.com/artist/2KftmGt9sk1yLjsAoloC3M'},\n",
       "    'href': 'https://api.spotify.com/v1/artists/2KftmGt9sk1yLjsAoloC3M',\n",
       "    'id': '2KftmGt9sk1yLjsAoloC3M',\n",
       "    'name': 'Zucchero',\n",
       "    'type': 'artist',\n",
       "    'uri': 'spotify:artist:2KftmGt9sk1yLjsAoloC3M'}],\n",
       "  'disc_number': 1,\n",
       "  'track_number': 18,\n",
       "  'duration_ms': 176093,\n",
       "  'external_ids': {'isrc': 'ITUM70701043'},\n",
       "  'external_urls': {'spotify': 'https://open.spotify.com/track/2E2znCPaS8anQe21GLxcvJ'},\n",
       "  'href': 'https://api.spotify.com/v1/tracks/2E2znCPaS8anQe21GLxcvJ',\n",
       "  'id': '2E2znCPaS8anQe21GLxcvJ',\n",
       "  'name': 'You Are So Beautiful',\n",
       "  'popularity': 0,\n",
       "  'uri': 'spotify:track:2E2znCPaS8anQe21GLxcvJ',\n",
       "  'is_local': False},\n",
       " 'video_thumbnail': {'url': None}}"
      ]
     },
     "execution_count": 39,
     "metadata": {},
     "output_type": "execute_result"
    }
   ],
   "source": [
    "#Transforming the data\n",
    "data['items'][4]"
   ]
  },
  {
   "cell_type": "code",
   "execution_count": 45,
   "metadata": {},
   "outputs": [
    {
     "data": {
      "text/plain": [
       "'https://open.spotify.com/album/2pANdqPvxInB0YvcDiw4ko'"
      ]
     },
     "execution_count": 45,
     "metadata": {},
     "output_type": "execute_result"
    }
   ],
   "source": [
    "data['items'][0]['track']['album']['external_urls']['spotify']"
   ]
  },
  {
   "cell_type": "code",
   "execution_count": 48,
   "metadata": {},
   "outputs": [],
   "source": [
    "album_list = []\n",
    "for row in data['items']:\n",
    "    album_id = row['track']['album']['id']\n",
    "    album_name = row['track']['album']['name']\n",
    "    album_release_date = row['track']['album']['release_date']\n",
    "    album_total_tracks = row['track']['album']['total_tracks']\n",
    "    album_url = row['track']['album']['external_urls']['spotify']\n",
    "    album_element = {'album_id':album_id, \n",
    "                     'name' : album_name,\n",
    "                     'release_date' : album_release_date,\n",
    "                     'total_tracks' : album_total_tracks,\n",
    "                     'url' : album_url}\n",
    "    album_list.append(album_element)\n",
    "    "
   ]
  },
  {
   "cell_type": "code",
   "execution_count": 49,
   "metadata": {},
   "outputs": [
    {
     "data": {
      "text/plain": [
       "[{'album_id': '2pANdqPvxInB0YvcDiw4ko',\n",
       "  'name': 'Progressive Psy Trance Picks Vol.8',\n",
       "  'release_date': '2012-04-02',\n",
       "  'total_tracks': 20,\n",
       "  'url': 'https://open.spotify.com/album/2pANdqPvxInB0YvcDiw4ko'},\n",
       " {'album_id': '6nlfkk5GoXRL1nktlATNsy',\n",
       "  'name': 'Wellness & Dreaming Source',\n",
       "  'release_date': '2015-01-09',\n",
       "  'total_tracks': 25,\n",
       "  'url': 'https://open.spotify.com/album/6nlfkk5GoXRL1nktlATNsy'},\n",
       " {'album_id': '4hnqM0JK4CM1phwfq1Ldyz',\n",
       "  'name': 'This Is Happening',\n",
       "  'release_date': '2010-05-17',\n",
       "  'total_tracks': 9,\n",
       "  'url': 'https://open.spotify.com/album/4hnqM0JK4CM1phwfq1Ldyz'},\n",
       " {'album_id': '2usKFntxa98WHMcyW6xJBz',\n",
       "  'name': 'Glenn Horiuchi Trio / Gelenn Horiuchi Quartet: Mercy / Jump Start / Endpoints / Curl Out / Earthworks / Mind Probe / Null Set / Another Space (A)',\n",
       "  'release_date': '2011-04-01',\n",
       "  'total_tracks': 8,\n",
       "  'url': 'https://open.spotify.com/album/2usKFntxa98WHMcyW6xJBz'},\n",
       " {'album_id': '0ivM6kSawaug0j3tZVusG2',\n",
       "  'name': 'All The Best (Spanish Version)',\n",
       "  'release_date': '2007-01-01',\n",
       "  'total_tracks': 18,\n",
       "  'url': 'https://open.spotify.com/album/0ivM6kSawaug0j3tZVusG2'}]"
      ]
     },
     "execution_count": 49,
     "metadata": {},
     "output_type": "execute_result"
    }
   ],
   "source": [
    "album_list"
   ]
  },
  {
   "cell_type": "code",
   "execution_count": 53,
   "metadata": {},
   "outputs": [],
   "source": [
    "artist_list = []\n",
    "for row in data['items']:\n",
    "    for key, value in row.items():\n",
    "     if key == \"track\":\n",
    "        for artist in value['artists']:\n",
    "           artist_dict = {'artist_id':artist['id'],\n",
    "                          'artist_name':artist['name'],\n",
    "                          'external_url':artist['href']}\n",
    "           artist_list.append(artist_dict)"
   ]
  },
  {
   "cell_type": "code",
   "execution_count": 54,
   "metadata": {},
   "outputs": [
    {
     "data": {
      "text/plain": [
       "[{'artist_id': '6eSdhw46riw2OUHgMwR8B5',\n",
       "  'artist_name': 'Odiseo',\n",
       "  'external_url': 'https://api.spotify.com/v1/artists/6eSdhw46riw2OUHgMwR8B5'},\n",
       " {'artist_id': '5VQE4WOzPu9h3HnGLuBoA6',\n",
       "  'artist_name': 'Vlasta Marek',\n",
       "  'external_url': 'https://api.spotify.com/v1/artists/5VQE4WOzPu9h3HnGLuBoA6'},\n",
       " {'artist_id': '066X20Nz7iquqkkCW6Jxy6',\n",
       "  'artist_name': 'LCD Soundsystem',\n",
       "  'external_url': 'https://api.spotify.com/v1/artists/066X20Nz7iquqkkCW6Jxy6'},\n",
       " {'artist_id': '272ArH9SUAlslQqsSgPJA2',\n",
       "  'artist_name': 'Glenn Horiuchi Trio',\n",
       "  'external_url': 'https://api.spotify.com/v1/artists/272ArH9SUAlslQqsSgPJA2'},\n",
       " {'artist_id': '2KftmGt9sk1yLjsAoloC3M',\n",
       "  'artist_name': 'Zucchero',\n",
       "  'external_url': 'https://api.spotify.com/v1/artists/2KftmGt9sk1yLjsAoloC3M'}]"
      ]
     },
     "execution_count": 54,
     "metadata": {},
     "output_type": "execute_result"
    }
   ],
   "source": [
    "artist_list"
   ]
  },
  {
   "cell_type": "code",
   "execution_count": 55,
   "metadata": {},
   "outputs": [],
   "source": [
    "song_list = []\n",
    "for row in data['items']:\n",
    "    song_id = row['track']['id']\n",
    "    song_name = row['track']['name']\n",
    "    song_duration = row['track']['duration_ms']\n",
    "    song_url = row['track']['external_urls']['spotify']\n",
    "    song_popularity = row['track']['popularity']\n",
    "    song_added = row['added_at']\n",
    "    album_id = row['track']['album']['id']\n",
    "    artist_id = row['track']['album']['artists'][0]['id']\n",
    "    song_element = {'song_id':song_id,\n",
    "                    'song_name' : song_name,\n",
    "                    'duration_ms':song_duration,\n",
    "                    'url':song_url,\n",
    "                    'popularity':song_popularity,\n",
    "                    'song_added':song_added,\n",
    "                    'album_id':album_id}\n",
    "    song_list.append(song_element)"
   ]
  },
  {
   "cell_type": "code",
   "execution_count": 56,
   "metadata": {},
   "outputs": [
    {
     "data": {
      "text/plain": [
       "[{'song_id': '4rzfv0JLZfVhOhbSQ8o5jZ',\n",
       "  'song_name': 'Api',\n",
       "  'duration_ms': 376000,\n",
       "  'url': 'https://open.spotify.com/track/4rzfv0JLZfVhOhbSQ8o5jZ',\n",
       "  'popularity': 1,\n",
       "  'song_added': '2015-01-15T12:39:22Z',\n",
       "  'album_id': '2pANdqPvxInB0YvcDiw4ko'},\n",
       " {'song_id': '5o3jMYOSbaVz3tkgwhELSV',\n",
       "  'song_name': 'Is',\n",
       "  'duration_ms': 730066,\n",
       "  'url': 'https://open.spotify.com/track/5o3jMYOSbaVz3tkgwhELSV',\n",
       "  'popularity': 0,\n",
       "  'song_added': '2015-01-15T12:40:03Z',\n",
       "  'album_id': '6nlfkk5GoXRL1nktlATNsy'},\n",
       " {'song_id': '4Cy0NHJ8Gh0xMdwyM9RkQm',\n",
       "  'song_name': 'All I Want',\n",
       "  'duration_ms': 401440,\n",
       "  'url': 'https://open.spotify.com/track/4Cy0NHJ8Gh0xMdwyM9RkQm',\n",
       "  'popularity': 41,\n",
       "  'song_added': '2015-01-15T12:22:30Z',\n",
       "  'album_id': '4hnqM0JK4CM1phwfq1Ldyz'},\n",
       " {'song_id': '6hvFrZNocdt2FcKGCSY5NI',\n",
       "  'song_name': 'Endpoints',\n",
       "  'duration_ms': 358760,\n",
       "  'url': 'https://open.spotify.com/track/6hvFrZNocdt2FcKGCSY5NI',\n",
       "  'popularity': 0,\n",
       "  'song_added': '2015-01-15T12:40:35Z',\n",
       "  'album_id': '2usKFntxa98WHMcyW6xJBz'},\n",
       " {'song_id': '2E2znCPaS8anQe21GLxcvJ',\n",
       "  'song_name': 'You Are So Beautiful',\n",
       "  'duration_ms': 176093,\n",
       "  'url': 'https://open.spotify.com/track/2E2znCPaS8anQe21GLxcvJ',\n",
       "  'popularity': 0,\n",
       "  'song_added': '2015-01-15T12:41:10Z',\n",
       "  'album_id': '0ivM6kSawaug0j3tZVusG2'}]"
      ]
     },
     "execution_count": 56,
     "metadata": {},
     "output_type": "execute_result"
    }
   ],
   "source": [
    "song_list"
   ]
  },
  {
   "cell_type": "code",
   "execution_count": 60,
   "metadata": {},
   "outputs": [],
   "source": [
    "\n",
    "album_df = pd.DataFrame.from_dict(album_list)"
   ]
  },
  {
   "cell_type": "code",
   "execution_count": 61,
   "metadata": {},
   "outputs": [
    {
     "data": {
      "text/html": [
       "<div>\n",
       "<style scoped>\n",
       "    .dataframe tbody tr th:only-of-type {\n",
       "        vertical-align: middle;\n",
       "    }\n",
       "\n",
       "    .dataframe tbody tr th {\n",
       "        vertical-align: top;\n",
       "    }\n",
       "\n",
       "    .dataframe thead th {\n",
       "        text-align: right;\n",
       "    }\n",
       "</style>\n",
       "<table border=\"1\" class=\"dataframe\">\n",
       "  <thead>\n",
       "    <tr style=\"text-align: right;\">\n",
       "      <th></th>\n",
       "      <th>album_id</th>\n",
       "      <th>name</th>\n",
       "      <th>release_date</th>\n",
       "      <th>total_tracks</th>\n",
       "      <th>url</th>\n",
       "    </tr>\n",
       "  </thead>\n",
       "  <tbody>\n",
       "    <tr>\n",
       "      <th>0</th>\n",
       "      <td>2pANdqPvxInB0YvcDiw4ko</td>\n",
       "      <td>Progressive Psy Trance Picks Vol.8</td>\n",
       "      <td>2012-04-02</td>\n",
       "      <td>20</td>\n",
       "      <td>https://open.spotify.com/album/2pANdqPvxInB0Yv...</td>\n",
       "    </tr>\n",
       "    <tr>\n",
       "      <th>1</th>\n",
       "      <td>6nlfkk5GoXRL1nktlATNsy</td>\n",
       "      <td>Wellness &amp; Dreaming Source</td>\n",
       "      <td>2015-01-09</td>\n",
       "      <td>25</td>\n",
       "      <td>https://open.spotify.com/album/6nlfkk5GoXRL1nk...</td>\n",
       "    </tr>\n",
       "    <tr>\n",
       "      <th>2</th>\n",
       "      <td>4hnqM0JK4CM1phwfq1Ldyz</td>\n",
       "      <td>This Is Happening</td>\n",
       "      <td>2010-05-17</td>\n",
       "      <td>9</td>\n",
       "      <td>https://open.spotify.com/album/4hnqM0JK4CM1phw...</td>\n",
       "    </tr>\n",
       "    <tr>\n",
       "      <th>3</th>\n",
       "      <td>2usKFntxa98WHMcyW6xJBz</td>\n",
       "      <td>Glenn Horiuchi Trio / Gelenn Horiuchi Quartet:...</td>\n",
       "      <td>2011-04-01</td>\n",
       "      <td>8</td>\n",
       "      <td>https://open.spotify.com/album/2usKFntxa98WHMc...</td>\n",
       "    </tr>\n",
       "    <tr>\n",
       "      <th>4</th>\n",
       "      <td>0ivM6kSawaug0j3tZVusG2</td>\n",
       "      <td>All The Best (Spanish Version)</td>\n",
       "      <td>2007-01-01</td>\n",
       "      <td>18</td>\n",
       "      <td>https://open.spotify.com/album/0ivM6kSawaug0j3...</td>\n",
       "    </tr>\n",
       "  </tbody>\n",
       "</table>\n",
       "</div>"
      ],
      "text/plain": [
       "                 album_id                                               name  \\\n",
       "0  2pANdqPvxInB0YvcDiw4ko                 Progressive Psy Trance Picks Vol.8   \n",
       "1  6nlfkk5GoXRL1nktlATNsy                         Wellness & Dreaming Source   \n",
       "2  4hnqM0JK4CM1phwfq1Ldyz                                  This Is Happening   \n",
       "3  2usKFntxa98WHMcyW6xJBz  Glenn Horiuchi Trio / Gelenn Horiuchi Quartet:...   \n",
       "4  0ivM6kSawaug0j3tZVusG2                     All The Best (Spanish Version)   \n",
       "\n",
       "  release_date  total_tracks  \\\n",
       "0   2012-04-02            20   \n",
       "1   2015-01-09            25   \n",
       "2   2010-05-17             9   \n",
       "3   2011-04-01             8   \n",
       "4   2007-01-01            18   \n",
       "\n",
       "                                                 url  \n",
       "0  https://open.spotify.com/album/2pANdqPvxInB0Yv...  \n",
       "1  https://open.spotify.com/album/6nlfkk5GoXRL1nk...  \n",
       "2  https://open.spotify.com/album/4hnqM0JK4CM1phw...  \n",
       "3  https://open.spotify.com/album/2usKFntxa98WHMc...  \n",
       "4  https://open.spotify.com/album/0ivM6kSawaug0j3...  "
      ]
     },
     "execution_count": 61,
     "metadata": {},
     "output_type": "execute_result"
    }
   ],
   "source": [
    "album_df"
   ]
  },
  {
   "cell_type": "code",
   "execution_count": 62,
   "metadata": {},
   "outputs": [],
   "source": [
    "artist_df = pd.DataFrame.from_dict(artist_list)"
   ]
  },
  {
   "cell_type": "code",
   "execution_count": 63,
   "metadata": {},
   "outputs": [
    {
     "data": {
      "text/html": [
       "<div>\n",
       "<style scoped>\n",
       "    .dataframe tbody tr th:only-of-type {\n",
       "        vertical-align: middle;\n",
       "    }\n",
       "\n",
       "    .dataframe tbody tr th {\n",
       "        vertical-align: top;\n",
       "    }\n",
       "\n",
       "    .dataframe thead th {\n",
       "        text-align: right;\n",
       "    }\n",
       "</style>\n",
       "<table border=\"1\" class=\"dataframe\">\n",
       "  <thead>\n",
       "    <tr style=\"text-align: right;\">\n",
       "      <th></th>\n",
       "      <th>artist_id</th>\n",
       "      <th>artist_name</th>\n",
       "      <th>external_url</th>\n",
       "    </tr>\n",
       "  </thead>\n",
       "  <tbody>\n",
       "    <tr>\n",
       "      <th>0</th>\n",
       "      <td>6eSdhw46riw2OUHgMwR8B5</td>\n",
       "      <td>Odiseo</td>\n",
       "      <td>https://api.spotify.com/v1/artists/6eSdhw46riw...</td>\n",
       "    </tr>\n",
       "    <tr>\n",
       "      <th>1</th>\n",
       "      <td>5VQE4WOzPu9h3HnGLuBoA6</td>\n",
       "      <td>Vlasta Marek</td>\n",
       "      <td>https://api.spotify.com/v1/artists/5VQE4WOzPu9...</td>\n",
       "    </tr>\n",
       "    <tr>\n",
       "      <th>2</th>\n",
       "      <td>066X20Nz7iquqkkCW6Jxy6</td>\n",
       "      <td>LCD Soundsystem</td>\n",
       "      <td>https://api.spotify.com/v1/artists/066X20Nz7iq...</td>\n",
       "    </tr>\n",
       "    <tr>\n",
       "      <th>3</th>\n",
       "      <td>272ArH9SUAlslQqsSgPJA2</td>\n",
       "      <td>Glenn Horiuchi Trio</td>\n",
       "      <td>https://api.spotify.com/v1/artists/272ArH9SUAl...</td>\n",
       "    </tr>\n",
       "    <tr>\n",
       "      <th>4</th>\n",
       "      <td>2KftmGt9sk1yLjsAoloC3M</td>\n",
       "      <td>Zucchero</td>\n",
       "      <td>https://api.spotify.com/v1/artists/2KftmGt9sk1...</td>\n",
       "    </tr>\n",
       "  </tbody>\n",
       "</table>\n",
       "</div>"
      ],
      "text/plain": [
       "                artist_id          artist_name  \\\n",
       "0  6eSdhw46riw2OUHgMwR8B5               Odiseo   \n",
       "1  5VQE4WOzPu9h3HnGLuBoA6         Vlasta Marek   \n",
       "2  066X20Nz7iquqkkCW6Jxy6      LCD Soundsystem   \n",
       "3  272ArH9SUAlslQqsSgPJA2  Glenn Horiuchi Trio   \n",
       "4  2KftmGt9sk1yLjsAoloC3M             Zucchero   \n",
       "\n",
       "                                        external_url  \n",
       "0  https://api.spotify.com/v1/artists/6eSdhw46riw...  \n",
       "1  https://api.spotify.com/v1/artists/5VQE4WOzPu9...  \n",
       "2  https://api.spotify.com/v1/artists/066X20Nz7iq...  \n",
       "3  https://api.spotify.com/v1/artists/272ArH9SUAl...  \n",
       "4  https://api.spotify.com/v1/artists/2KftmGt9sk1...  "
      ]
     },
     "execution_count": 63,
     "metadata": {},
     "output_type": "execute_result"
    }
   ],
   "source": [
    "artist_df"
   ]
  },
  {
   "cell_type": "code",
   "execution_count": 64,
   "metadata": {},
   "outputs": [],
   "source": [
    "song_df = pd.DataFrame.from_dict(song_list)"
   ]
  },
  {
   "cell_type": "code",
   "execution_count": 65,
   "metadata": {},
   "outputs": [
    {
     "data": {
      "text/html": [
       "<div>\n",
       "<style scoped>\n",
       "    .dataframe tbody tr th:only-of-type {\n",
       "        vertical-align: middle;\n",
       "    }\n",
       "\n",
       "    .dataframe tbody tr th {\n",
       "        vertical-align: top;\n",
       "    }\n",
       "\n",
       "    .dataframe thead th {\n",
       "        text-align: right;\n",
       "    }\n",
       "</style>\n",
       "<table border=\"1\" class=\"dataframe\">\n",
       "  <thead>\n",
       "    <tr style=\"text-align: right;\">\n",
       "      <th></th>\n",
       "      <th>song_id</th>\n",
       "      <th>song_name</th>\n",
       "      <th>duration_ms</th>\n",
       "      <th>url</th>\n",
       "      <th>popularity</th>\n",
       "      <th>song_added</th>\n",
       "      <th>album_id</th>\n",
       "    </tr>\n",
       "  </thead>\n",
       "  <tbody>\n",
       "    <tr>\n",
       "      <th>0</th>\n",
       "      <td>4rzfv0JLZfVhOhbSQ8o5jZ</td>\n",
       "      <td>Api</td>\n",
       "      <td>376000</td>\n",
       "      <td>https://open.spotify.com/track/4rzfv0JLZfVhOhb...</td>\n",
       "      <td>1</td>\n",
       "      <td>2015-01-15T12:39:22Z</td>\n",
       "      <td>2pANdqPvxInB0YvcDiw4ko</td>\n",
       "    </tr>\n",
       "    <tr>\n",
       "      <th>1</th>\n",
       "      <td>5o3jMYOSbaVz3tkgwhELSV</td>\n",
       "      <td>Is</td>\n",
       "      <td>730066</td>\n",
       "      <td>https://open.spotify.com/track/5o3jMYOSbaVz3tk...</td>\n",
       "      <td>0</td>\n",
       "      <td>2015-01-15T12:40:03Z</td>\n",
       "      <td>6nlfkk5GoXRL1nktlATNsy</td>\n",
       "    </tr>\n",
       "    <tr>\n",
       "      <th>2</th>\n",
       "      <td>4Cy0NHJ8Gh0xMdwyM9RkQm</td>\n",
       "      <td>All I Want</td>\n",
       "      <td>401440</td>\n",
       "      <td>https://open.spotify.com/track/4Cy0NHJ8Gh0xMdw...</td>\n",
       "      <td>41</td>\n",
       "      <td>2015-01-15T12:22:30Z</td>\n",
       "      <td>4hnqM0JK4CM1phwfq1Ldyz</td>\n",
       "    </tr>\n",
       "    <tr>\n",
       "      <th>3</th>\n",
       "      <td>6hvFrZNocdt2FcKGCSY5NI</td>\n",
       "      <td>Endpoints</td>\n",
       "      <td>358760</td>\n",
       "      <td>https://open.spotify.com/track/6hvFrZNocdt2FcK...</td>\n",
       "      <td>0</td>\n",
       "      <td>2015-01-15T12:40:35Z</td>\n",
       "      <td>2usKFntxa98WHMcyW6xJBz</td>\n",
       "    </tr>\n",
       "    <tr>\n",
       "      <th>4</th>\n",
       "      <td>2E2znCPaS8anQe21GLxcvJ</td>\n",
       "      <td>You Are So Beautiful</td>\n",
       "      <td>176093</td>\n",
       "      <td>https://open.spotify.com/track/2E2znCPaS8anQe2...</td>\n",
       "      <td>0</td>\n",
       "      <td>2015-01-15T12:41:10Z</td>\n",
       "      <td>0ivM6kSawaug0j3tZVusG2</td>\n",
       "    </tr>\n",
       "  </tbody>\n",
       "</table>\n",
       "</div>"
      ],
      "text/plain": [
       "                  song_id             song_name  duration_ms  \\\n",
       "0  4rzfv0JLZfVhOhbSQ8o5jZ                   Api       376000   \n",
       "1  5o3jMYOSbaVz3tkgwhELSV                    Is       730066   \n",
       "2  4Cy0NHJ8Gh0xMdwyM9RkQm            All I Want       401440   \n",
       "3  6hvFrZNocdt2FcKGCSY5NI             Endpoints       358760   \n",
       "4  2E2znCPaS8anQe21GLxcvJ  You Are So Beautiful       176093   \n",
       "\n",
       "                                                 url  popularity  \\\n",
       "0  https://open.spotify.com/track/4rzfv0JLZfVhOhb...           1   \n",
       "1  https://open.spotify.com/track/5o3jMYOSbaVz3tk...           0   \n",
       "2  https://open.spotify.com/track/4Cy0NHJ8Gh0xMdw...          41   \n",
       "3  https://open.spotify.com/track/6hvFrZNocdt2FcK...           0   \n",
       "4  https://open.spotify.com/track/2E2znCPaS8anQe2...           0   \n",
       "\n",
       "             song_added                album_id  \n",
       "0  2015-01-15T12:39:22Z  2pANdqPvxInB0YvcDiw4ko  \n",
       "1  2015-01-15T12:40:03Z  6nlfkk5GoXRL1nktlATNsy  \n",
       "2  2015-01-15T12:22:30Z  4hnqM0JK4CM1phwfq1Ldyz  \n",
       "3  2015-01-15T12:40:35Z  2usKFntxa98WHMcyW6xJBz  \n",
       "4  2015-01-15T12:41:10Z  0ivM6kSawaug0j3tZVusG2  "
      ]
     },
     "execution_count": 65,
     "metadata": {},
     "output_type": "execute_result"
    }
   ],
   "source": [
    "song_df"
   ]
  },
  {
   "cell_type": "code",
   "execution_count": 66,
   "metadata": {},
   "outputs": [
    {
     "name": "stdout",
     "output_type": "stream",
     "text": [
      "<class 'pandas.core.frame.DataFrame'>\n",
      "RangeIndex: 5 entries, 0 to 4\n",
      "Data columns (total 5 columns):\n",
      " #   Column        Non-Null Count  Dtype \n",
      "---  ------        --------------  ----- \n",
      " 0   album_id      5 non-null      object\n",
      " 1   name          5 non-null      object\n",
      " 2   release_date  5 non-null      object\n",
      " 3   total_tracks  5 non-null      int64 \n",
      " 4   url           5 non-null      object\n",
      "dtypes: int64(1), object(4)\n",
      "memory usage: 332.0+ bytes\n"
     ]
    }
   ],
   "source": [
    "album_df.info()"
   ]
  },
  {
   "cell_type": "code",
   "execution_count": 67,
   "metadata": {},
   "outputs": [],
   "source": [
    "album_df['release_date'] = pd.to_datetime(album_df['release_date'])"
   ]
  },
  {
   "cell_type": "code",
   "execution_count": 68,
   "metadata": {},
   "outputs": [
    {
     "name": "stdout",
     "output_type": "stream",
     "text": [
      "<class 'pandas.core.frame.DataFrame'>\n",
      "RangeIndex: 5 entries, 0 to 4\n",
      "Data columns (total 5 columns):\n",
      " #   Column        Non-Null Count  Dtype         \n",
      "---  ------        --------------  -----         \n",
      " 0   album_id      5 non-null      object        \n",
      " 1   name          5 non-null      object        \n",
      " 2   release_date  5 non-null      datetime64[ns]\n",
      " 3   total_tracks  5 non-null      int64         \n",
      " 4   url           5 non-null      object        \n",
      "dtypes: datetime64[ns](1), int64(1), object(3)\n",
      "memory usage: 332.0+ bytes\n"
     ]
    }
   ],
   "source": [
    "album_df.info()"
   ]
  },
  {
   "cell_type": "code",
   "execution_count": 69,
   "metadata": {},
   "outputs": [],
   "source": [
    "song_df['song_added'] = pd.to_datetime(song_df['song_added'])"
   ]
  },
  {
   "cell_type": "code",
   "execution_count": null,
   "metadata": {},
   "outputs": [],
   "source": []
  }
 ],
 "metadata": {
  "kernelspec": {
   "display_name": "sspipe",
   "language": "python",
   "name": "python3"
  },
  "language_info": {
   "codemirror_mode": {
    "name": "ipython",
    "version": 3
   },
   "file_extension": ".py",
   "mimetype": "text/x-python",
   "name": "python",
   "nbconvert_exporter": "python",
   "pygments_lexer": "ipython3",
   "version": "3.13.0"
  }
 },
 "nbformat": 4,
 "nbformat_minor": 2
}
